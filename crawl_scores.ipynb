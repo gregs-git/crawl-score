{
 "cells": [
  {
   "cell_type": "markdown",
   "metadata": {},
   "source": [
    "A script that retrieves the crawl top 1000 highest scores once per day, then produces some stats from the results.\n",
    "\n",
    "Notes\n",
    "\n",
    "- script is triggered by a daily cron job\n",
    "- data is stored in sqlite3\n",
    "- running once per day runs a small risk of missing a score that appeared briefly before being knocked off that day."
   ]
  },
  {
   "cell_type": "code",
   "execution_count": 113,
   "metadata": {},
   "outputs": [],
   "source": [
    "import pandas as pd\n",
    "import time\n",
    "import sqlite3"
   ]
  },
  {
   "cell_type": "code",
   "execution_count": 114,
   "metadata": {},
   "outputs": [
    {
     "name": "stdout",
     "output_type": "stream",
     "text": [
      "Last updated 04/06/2021 at 13:57\n"
     ]
    }
   ],
   "source": [
    "# get the date\n",
    "\n",
    "print(\"Last updated \" + time.strftime(\"%d/%m/%Y at %H:%M\"))"
   ]
  },
  {
   "cell_type": "code",
   "execution_count": 115,
   "metadata": {},
   "outputs": [],
   "source": [
    "# connect to the db\n",
    "\n",
    "con = sqlite3.connect('crawl_scores.db')\n",
    "cur = con.cursor()"
   ]
  },
  {
   "cell_type": "code",
   "execution_count": 116,
   "metadata": {},
   "outputs": [],
   "source": [
    "# read the previous update into a dataframe\n",
    "\n",
    "old_dcss_data = pd.read_sql('SELECT * FROM scores', con)"
   ]
  },
  {
   "cell_type": "code",
   "execution_count": 117,
   "metadata": {},
   "outputs": [],
   "source": [
    "# store the last update into the old_scores table for comparison\n",
    "\n",
    "old_dcss_data.to_sql(\"old_scores\", con, if_exists=\"replace\", index=False)"
   ]
  },
  {
   "cell_type": "code",
   "execution_count": 118,
   "metadata": {},
   "outputs": [],
   "source": [
    "# get the hi score table from the crawl website into a dataframe\n",
    "\n",
    "url = 'http://crawl.akrasiac.org/scoring/top-N.html'\n",
    "tables = pd.read_html(url)\n",
    "new_dcss_data = tables[0]"
   ]
  },
  {
   "cell_type": "code",
   "execution_count": 119,
   "metadata": {},
   "outputs": [],
   "source": [
    "# clean up table and add unique ID from score and date\n",
    "\n",
    "new_dcss_data = new_dcss_data.rename(columns = {'Unnamed: 0' : \"Rank\"})"
   ]
  },
  {
   "cell_type": "code",
   "execution_count": 120,
   "metadata": {},
   "outputs": [],
   "source": [
    "# put the new dataframe into the sqlite3 db\n",
    "\n",
    "# write the dataframe to the db\n",
    "new_dcss_data.to_sql(\"scores\", con, if_exists=\"replace\", index=False)"
   ]
  },
  {
   "cell_type": "code",
   "execution_count": 121,
   "metadata": {},
   "outputs": [],
   "source": [
    "# get any new entries\n",
    "\n",
    "new_entries = pd.read_sql_query(\"SELECT * FROM scores EXCEPT SELECT * FROM old_scores\", con)"
   ]
  },
  {
   "cell_type": "code",
   "execution_count": 122,
   "metadata": {},
   "outputs": [],
   "source": [
    "# get knocked out entries\n",
    "\n",
    "knocked_out = pd.read_sql_query(\"SELECT * FROM old_scores EXCEPT SELECT * FROM scores\", con)"
   ]
  },
  {
   "cell_type": "code",
   "execution_count": 123,
   "metadata": {},
   "outputs": [],
   "source": [
    "# save knocked out entries\n",
    "\n",
    "knocked_out.to_sql(\"knocked\", con, if_exists=\"append\", index=False)"
   ]
  },
  {
   "cell_type": "code",
   "execution_count": null,
   "metadata": {},
   "outputs": [],
   "source": [
    "# show last time scores changed\n",
    "last_change = new_dcss_data[\"Date\"].sort_values(ascending=False)\n",
    "last_change = str(last_change.iloc[0])\n",
    "\n",
    "print(\"Top 1000 last changed \" + last_change)"
   ]
  },
  {
   "cell_type": "code",
   "execution_count": 153,
   "metadata": {},
   "outputs": [
    {
     "name": "stdout",
     "output_type": "stream",
     "text": [
      "Total wins from complete versions: 323\n",
      "Total wins from git versions: 677\n"
     ]
    }
   ],
   "source": [
    "# show total wins in prod\n",
    "\n",
    "prod_scores = new_dcss_data[~new_dcss_data[\"Version\"].str.contains(\"-\")]\n",
    "non_prod_scores = new_dcss_data[new_dcss_data[\"Version\"].str.contains(\"-\")]\n",
    "\n",
    "print(\"Total wins from complete versions: \" + str(len(prod_scores.index)))\n",
    "print(\"Total wins from git versions: \" + str(len(non_prod_scores.index)))"
   ]
  },
  {
   "cell_type": "code",
   "execution_count": null,
   "metadata": {},
   "outputs": [],
   "source": [
    "most_recent[\"Date\"]"
   ]
  },
  {
   "cell_type": "code",
   "execution_count": 19,
   "metadata": {},
   "outputs": [],
   "source": [
    "my_first_df = pd.read_pickle(\"20210529-151629\")"
   ]
  },
  {
   "cell_type": "code",
   "execution_count": 20,
   "metadata": {},
   "outputs": [],
   "source": [
    "my_second_df = pd.read_pickle(\"20210603-160607\")"
   ]
  },
  {
   "cell_type": "code",
   "execution_count": 21,
   "metadata": {},
   "outputs": [
    {
     "name": "stdout",
     "output_type": "stream",
     "text": [
      "     Unnamed: 0     Score        Player Character              God  \\\n",
      "103         104  54029826          Wong      DEFE          Vehumet   \n",
      "873         874  32473507     p0werm0de      GrFi  the Shining One   \n",
      "11           12  82486239        Sergey      DEVM         Sif Muna   \n",
      "840         841  32967403       Catclaw      FoDe           Lugonu   \n",
      "634         635  35981393  Nebukadnezar      BaVM  the Shining One   \n",
      "\n",
      "                   Title  Place                                 End  XL  \\\n",
      "103             Archmage    NaN  escaped with the Orb and 15 runes!  27   \n",
      "873               Slayer    NaN  escaped with the Orb and 15 runes!  27   \n",
      "11              Archmage    NaN  escaped with the Orb and 15 runes!  27   \n",
      "840  Corrupter of Planes    NaN  escaped with the Orb and 15 runes!  27   \n",
      "634       Petrodigitator    NaN  escaped with the Orb and 15 runes!  27   \n",
      "\n",
      "     Turns  Duration  Runes                 Date  Version Server  \n",
      "103  26817  03:07:08     15  2021-05-29 11:17:18  0.27-a0    CWZ  \n",
      "873  45378  00:49:09     15  2021-05-22 19:30:13  0.27-a0    CXC  \n",
      "11   17373  13:16:35     15  2021-05-19 22:46:14  0.27-a0    CUE  \n",
      "840  44821  05:07:48     15  2021-05-18 13:35:14  0.27-a0    CWZ  \n",
      "634  40760  09:45:34     15  2021-05-18 07:44:38   0.26.1    CXC  \n",
      "     Unnamed: 0     Score        Player Character              God  \\\n",
      "103         104  54029826          Wong      DEFE          Vehumet   \n",
      "873         874  32473507     p0werm0de      GrFi  the Shining One   \n",
      "11           12  82486239        Sergey      DEVM         Sif Muna   \n",
      "840         841  32967403       Catclaw      FoDe           Lugonu   \n",
      "634         635  35981393  Nebukadnezar      BaVM  the Shining One   \n",
      "\n",
      "                   Title  Place                                 End  XL  \\\n",
      "103             Archmage    NaN  escaped with the Orb and 15 runes!  27   \n",
      "873               Slayer    NaN  escaped with the Orb and 15 runes!  27   \n",
      "11              Archmage    NaN  escaped with the Orb and 15 runes!  27   \n",
      "840  Corrupter of Planes    NaN  escaped with the Orb and 15 runes!  27   \n",
      "634       Petrodigitator    NaN  escaped with the Orb and 15 runes!  27   \n",
      "\n",
      "     Turns  Duration  Runes                 Date  Version Server  \n",
      "103  26817  03:07:08     15  2021-05-29 11:17:18  0.27-a0    CWZ  \n",
      "873  45378  00:49:09     15  2021-05-22 19:30:13  0.27-a0    CXC  \n",
      "11   17373  13:16:35     15  2021-05-19 22:46:14  0.27-a0    CUE  \n",
      "840  44821  05:07:48     15  2021-05-18 13:35:14  0.27-a0    CWZ  \n",
      "634  40760  09:45:34     15  2021-05-18 07:44:38   0.26.1    CXC  \n"
     ]
    }
   ],
   "source": [
    "print(my_first_df)\n",
    "print(my_second_df)"
   ]
  },
  {
   "cell_type": "code",
   "execution_count": 39,
   "metadata": {},
   "outputs": [],
   "source": [
    "easiest_version = dcss_data.groupby([\"Version\"]).size().reset_index(name='counts').sort_values(by=\"counts\", ascending=False)"
   ]
  },
  {
   "cell_type": "code",
   "execution_count": 40,
   "metadata": {},
   "outputs": [
    {
     "data": {
      "text/html": [
       "<div>\n",
       "<style scoped>\n",
       "    .dataframe tbody tr th:only-of-type {\n",
       "        vertical-align: middle;\n",
       "    }\n",
       "\n",
       "    .dataframe tbody tr th {\n",
       "        vertical-align: top;\n",
       "    }\n",
       "\n",
       "    .dataframe thead th {\n",
       "        text-align: right;\n",
       "    }\n",
       "</style>\n",
       "<table border=\"1\" class=\"dataframe\">\n",
       "  <thead>\n",
       "    <tr style=\"text-align: right;\">\n",
       "      <th></th>\n",
       "      <th>Version</th>\n",
       "      <th>counts</th>\n",
       "    </tr>\n",
       "  </thead>\n",
       "  <tbody>\n",
       "    <tr>\n",
       "      <th>34</th>\n",
       "      <td>0.19-a0</td>\n",
       "      <td>97</td>\n",
       "    </tr>\n",
       "    <tr>\n",
       "      <th>44</th>\n",
       "      <td>0.21-a0</td>\n",
       "      <td>76</td>\n",
       "    </tr>\n",
       "    <tr>\n",
       "      <th>27</th>\n",
       "      <td>0.17-a0</td>\n",
       "      <td>76</td>\n",
       "    </tr>\n",
       "    <tr>\n",
       "      <th>54</th>\n",
       "      <td>0.23-a0</td>\n",
       "      <td>61</td>\n",
       "    </tr>\n",
       "    <tr>\n",
       "      <th>50</th>\n",
       "      <td>0.22-a0</td>\n",
       "      <td>51</td>\n",
       "    </tr>\n",
       "    <tr>\n",
       "      <th>...</th>\n",
       "      <td>...</td>\n",
       "      <td>...</td>\n",
       "    </tr>\n",
       "    <tr>\n",
       "      <th>16</th>\n",
       "      <td>0.14.2</td>\n",
       "      <td>1</td>\n",
       "    </tr>\n",
       "    <tr>\n",
       "      <th>10</th>\n",
       "      <td>0.13-b1</td>\n",
       "      <td>1</td>\n",
       "    </tr>\n",
       "    <tr>\n",
       "      <th>7</th>\n",
       "      <td>0.12-a0</td>\n",
       "      <td>1</td>\n",
       "    </tr>\n",
       "    <tr>\n",
       "      <th>5</th>\n",
       "      <td>0.11.0</td>\n",
       "      <td>1</td>\n",
       "    </tr>\n",
       "    <tr>\n",
       "      <th>74</th>\n",
       "      <td>0.9.0</td>\n",
       "      <td>1</td>\n",
       "    </tr>\n",
       "  </tbody>\n",
       "</table>\n",
       "<p>75 rows × 2 columns</p>\n",
       "</div>"
      ],
      "text/plain": [
       "    Version  counts\n",
       "34  0.19-a0      97\n",
       "44  0.21-a0      76\n",
       "27  0.17-a0      76\n",
       "54  0.23-a0      61\n",
       "50  0.22-a0      51\n",
       "..      ...     ...\n",
       "16   0.14.2       1\n",
       "10  0.13-b1       1\n",
       "7   0.12-a0       1\n",
       "5    0.11.0       1\n",
       "74    0.9.0       1\n",
       "\n",
       "[75 rows x 2 columns]"
      ]
     },
     "execution_count": 40,
     "metadata": {},
     "output_type": "execute_result"
    }
   ],
   "source": [
    "easiest_version"
   ]
  },
  {
   "cell_type": "code",
   "execution_count": 42,
   "metadata": {},
   "outputs": [],
   "source": [
    "easiest_version.to_csv(\"new.csv\")"
   ]
  },
  {
   "cell_type": "code",
   "execution_count": null,
   "metadata": {},
   "outputs": [],
   "source": []
  }
 ],
 "metadata": {
  "kernelspec": {
   "display_name": "Python 3",
   "language": "python",
   "name": "python3"
  },
  "language_info": {
   "codemirror_mode": {
    "name": "ipython",
    "version": 3
   },
   "file_extension": ".py",
   "mimetype": "text/x-python",
   "name": "python",
   "nbconvert_exporter": "python",
   "pygments_lexer": "ipython3",
   "version": "3.7.3"
  }
 },
 "nbformat": 4,
 "nbformat_minor": 2
}
